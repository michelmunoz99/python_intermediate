{
  "nbformat": 4,
  "nbformat_minor": 0,
  "metadata": {
    "colab": {
      "name": "python_1-1.ipynb",
      "provenance": [],
      "authorship_tag": "ABX9TyNELoOD5RrQOBCqsLwHJG7p",
      "include_colab_link": true
    },
    "kernelspec": {
      "name": "python3",
      "display_name": "Python 3"
    }
  },
  "cells": [
    {
      "cell_type": "markdown",
      "metadata": {
        "id": "view-in-github",
        "colab_type": "text"
      },
      "source": [
        "<a href=\"https://colab.research.google.com/github/michelmunoz99/python_intermediate/blob/main/python_1_1.ipynb\" target=\"_parent\"><img src=\"https://colab.research.google.com/assets/colab-badge.svg\" alt=\"Open In Colab\"/></a>"
      ]
    },
    {
      "cell_type": "code",
      "metadata": {
        "colab": {
          "base_uri": "https://localhost:8080/"
        },
        "id": "Bp5sOCYvrvJP",
        "outputId": "de0b73aa-cc31-4184-e73e-eaf328daadac"
      },
      "source": [
        "class Persona():\n",
        "    edad = 21 # Variable de clase\n",
        "    def __init__(self, nombre, nacionalidad):\n",
        "        self.nombre = nombre # Variables de instancia\n",
        "        self.nacionalidad = nacionalidad\n",
        "\n",
        "\n",
        "persona_1 = Persona(\"Michel\", \"Mexicana\")\n",
        "\n",
        "# print(Persona.nombre) # Esto marca error cuando no se ha creado aún un objeto (var de instancia)\n",
        "print(Persona.edad) # Esta forma nos permite acceder a una variable de clase\n",
        "print(persona_1.nombre) # Como el objeto ya está creado, podremos acceder a las variables\n"
      ],
      "execution_count": null,
      "outputs": [
        {
          "output_type": "stream",
          "text": [
            "21\n",
            "Michel\n"
          ],
          "name": "stdout"
        }
      ]
    }
  ]
}